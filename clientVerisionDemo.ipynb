{
 "cells": [
  {
   "cell_type": "code",
   "execution_count": 1,
   "metadata": {},
   "outputs": [],
   "source": [
    "import FAIR"
   ]
  },
  {
   "cell_type": "code",
   "execution_count": 2,
   "metadata": {},
   "outputs": [],
   "source": [
    "dataset_meta = {\n",
    "    \"@context\":{\n",
    "        \"@vocab\":\"http://schema.org/\"\n",
    "    },\n",
    "    \"@type\":\"Dataset\",\n",
    "    \"name\":\"Raw Data\",\n",
    "    \"description\":\"Heart Rate Measures from patient from admission to discharge.\",\n",
    "    \"author\":[\n",
    "        {\n",
    "            \"name\":\"Justin Niestroy\",\n",
    "            \"@id\": \"https://orcid.org/0000-0002-1103-3882\",\n",
    "            \"affiliation\":\"University of Virginia\"\n",
    "        }\n",
    "    ],\n",
    "}"
   ]
  },
  {
   "cell_type": "code",
   "execution_count": 4,
   "metadata": {},
   "outputs": [
    {
     "data": {
      "text/plain": [
       "'ark:99999/67edaeca-ab24-40fe-b5e2-dee99997d5ae'"
      ]
     },
     "execution_count": 4,
     "metadata": {},
     "output_type": "execute_result"
    }
   ],
   "source": [
    "wd = '/Users/justinniestroy-admin/Documents/Work/Demos/Kubernetes Demo/Demo/'\n",
    "data_id = FAIR.upload_file(wd + 'UVA_7129_HR2.csv',dataset_meta)\n",
    "data_id"
   ]
  },
  {
   "cell_type": "code",
   "execution_count": 3,
   "metadata": {},
   "outputs": [],
   "source": [
    "data_id = 'ark:99999/67edaeca-ab24-40fe-b5e2-dee99997d5ae'"
   ]
  },
  {
   "cell_type": "code",
   "execution_count": 5,
   "metadata": {},
   "outputs": [
    {
     "data": {
      "text/plain": [
       "{'@context': {'@vocab': 'http://schema.org/'},\n",
       " '@id': 'ark:99999/67edaeca-ab24-40fe-b5e2-dee99997d5ae',\n",
       " '@type': 'Dataset',\n",
       " 'author': [{'@id': 'https://orcid.org/0000-0002-1103-3882',\n",
       "   'affiliation': 'University of Virginia',\n",
       "   'name': 'Justin Niestroy'}],\n",
       " 'description': 'Heart Rate Measures from patient from admission to discharge.',\n",
       " 'distribution': [{'@id': 'ark:99999/6203d3dc-a8e8-4fd7-83bc-9039a05a3124',\n",
       "   '@type': 'DataDownload',\n",
       "   'contentSize': 201072,\n",
       "   'contentUrl': 'minio:9000/breakfast/UVA_7129_HR2.csv',\n",
       "   'fileFormat': 'csv',\n",
       "   'name': 'UVA_7129_HR2.csv'}],\n",
       " 'name': 'Raw Data',\n",
       " 'sdPublicationDate': '2020-07-31T15:05:33.824866955Z',\n",
       " 'url': 'http://ors.uvadcos.io/ark:99999/67edaeca-ab24-40fe-b5e2-dee99997d5ae'}"
      ]
     },
     "execution_count": 5,
     "metadata": {},
     "output_type": "execute_result"
    }
   ],
   "source": [
    "FAIR.retrive_metadata(data_id)"
   ]
  },
  {
   "cell_type": "code",
   "execution_count": 6,
   "metadata": {},
   "outputs": [
    {
     "data": {
      "text/plain": [
       "'ark:99999/06bf2adb-ef2b-41bf-92d3-7b8b15155598'"
      ]
     },
     "execution_count": 6,
     "metadata": {},
     "output_type": "execute_result"
    }
   ],
   "source": [
    "spark_code_meta = {\n",
    "    \"@context\":{\n",
    "        \"@vocab\":\"http://schema.org/\"\n",
    "    },\n",
    "    \"@type\":\"SoftwareSourceCode\",\n",
    "    \"name\":\"Processing  Script\",\n",
    "    \"description\":\"Sample Source Code for HCTSA test on spark\",\n",
    "    \"author\":[\n",
    "        {\n",
    "            \"name\":\"Justin Niestroy\",\n",
    "            \"@id\": \"https://orcid.org/0000-0002-1103-3882\",\n",
    "            \"affiliation\":\"University of Virginia\"\n",
    "      }\n",
    "    ]\n",
    "}\n",
    "software_id = FAIR.upload_file(wd + 'run_algos.py',dataset_meta)\n",
    "software_id"
   ]
  },
  {
   "cell_type": "code",
   "execution_count": 4,
   "metadata": {},
   "outputs": [],
   "source": [
    "software_id = 'ark:99999/06bf2adb-ef2b-41bf-92d3-7b8b15155598'"
   ]
  },
  {
   "cell_type": "code",
   "execution_count": 6,
   "metadata": {},
   "outputs": [
    {
     "data": {
      "text/plain": [
       "'ark:99999/e3ffb042-64e8-4bfe-9da5-fd017db80152'"
      ]
     },
     "execution_count": 6,
     "metadata": {},
     "output_type": "execute_result"
    }
   ],
   "source": [
    "job_id = FAIR.compute(data_id,software_id,'spark')\n",
    "job_id"
   ]
  },
  {
   "cell_type": "code",
   "execution_count": 13,
   "metadata": {},
   "outputs": [
    {
     "data": {
      "text/plain": [
       "[]"
      ]
     },
     "execution_count": 13,
     "metadata": {},
     "output_type": "execute_result"
    }
   ],
   "source": [
    "FAIR.list_running_jobs()"
   ]
  },
  {
   "cell_type": "code",
   "execution_count": 14,
   "metadata": {},
   "outputs": [
    {
     "data": {
      "text/plain": [
       "[{'@id': 'ark:99999/09ffd978-214f-49ae-ba8d-82ff35987428'},\n",
       " {'@id': 'ark:99999/1369b997-da23-4d73-80ba-7029880bbee7'}]"
      ]
     },
     "execution_count": 14,
     "metadata": {},
     "output_type": "execute_result"
    }
   ],
   "source": [
    "job_metadata = FAIR.retrive_metadata(job_id)\n",
    "output_ids = job_metadata.get('evi:supports')\n",
    "output_ids"
   ]
  },
  {
   "cell_type": "code",
   "execution_count": 16,
   "metadata": {},
   "outputs": [
    {
     "data": {
      "text/plain": [
       "[{'@context': {'@vocab': 'http://schema.org/'},\n",
       "  '@id': 'ark:99999/09ffd978-214f-49ae-ba8d-82ff35987428',\n",
       "  '@type': 'Dataset',\n",
       "  'distribution': [{'@id': 'ark:99999/81a93859-6e56-45c8-aeb7-e3c9dc4f5942',\n",
       "    '@type': 'DataDownload',\n",
       "    'contentUrl': 'minio:9000/breakfast/e3ffb042-64e8-4bfe-9da5-fd017db80152/_SUCCESS',\n",
       "    'fileFormat': '_SUCCESS',\n",
       "    'name': '_SUCCESS'}],\n",
       "  'evi:generatedBy': {'@id': 'ark:99999/e3ffb042-64e8-4bfe-9da5-fd017db80152'},\n",
       "  'name': '_SUCCESS',\n",
       "  'sdPublicationDate': '2020-07-31T15:19:47.133929732Z',\n",
       "  'url': 'http://ors.uvadcos.io/ark:99999/09ffd978-214f-49ae-ba8d-82ff35987428'},\n",
       " {'@context': {'@vocab': 'http://schema.org/'},\n",
       "  '@id': 'ark:99999/1369b997-da23-4d73-80ba-7029880bbee7',\n",
       "  '@type': 'Dataset',\n",
       "  'distribution': [{'@id': 'ark:99999/87ee1fdc-7d74-4786-a856-1e4c76fe63f3',\n",
       "    '@type': 'DataDownload',\n",
       "    'contentUrl': 'minio:9000/breakfast/e3ffb042-64e8-4bfe-9da5-fd017db80152/part-00000-2108e7d8-c481-4173-91b6-08e5f01709fe-c000.csv',\n",
       "    'fileFormat': 'csv',\n",
       "    'name': 'part-00000-2108e7d8-c481-4173-91b6-08e5f01709fe-c000.csv'}],\n",
       "  'evi:generatedBy': {'@id': 'ark:99999/e3ffb042-64e8-4bfe-9da5-fd017db80152'},\n",
       "  'name': 'part-00000-2108e7d8-c481-4173-91b6-08e5f01709fe-c000.csv',\n",
       "  'sdPublicationDate': '2020-07-31T15:19:47.405029827Z',\n",
       "  'url': 'http://ors.uvadcos.io/ark:99999/1369b997-da23-4d73-80ba-7029880bbee7'}]"
      ]
     },
     "execution_count": 16,
     "metadata": {},
     "output_type": "execute_result"
    }
   ],
   "source": [
    "output_metadata = [ \n",
    "   FAIR.retrive_metadata(out['@id']) for out in output_ids\n",
    "]\n",
    "output_metadata"
   ]
  },
  {
   "cell_type": "code",
   "execution_count": 19,
   "metadata": {},
   "outputs": [],
   "source": [
    "spark_graphic_meta = {\n",
    "    \"@context\":{\n",
    "        \"@vocab\":\"http://schema.org/\"\n",
    "    },\n",
    "    \"@type\":\"SoftwareSourceCode\",\n",
    "    \"name\":\"Image Script\",\n",
    "    \"description\":\"Creates heatmap of patients stay\",\n",
    "    \"author\":[\n",
    "        {\n",
    "            \"name\":\"Justin Niestroy\",\n",
    "            \"@id\": \"https://orcid.org/0000-0002-1103-3882\",\n",
    "            \"affiliation\":\"University of Virginia\"\n",
    "      }\n",
    "    ]\n",
    "}\n",
    "graphic_code_id = FAIR.upload_file(wd + 'make_graphic.py',spark_graphic_meta)"
   ]
  },
  {
   "cell_type": "code",
   "execution_count": 20,
   "metadata": {},
   "outputs": [
    {
     "data": {
      "text/plain": [
       "'ark:99999/cfeb27a8-d946-4feb-ba65-2bda2ccaf94c'"
      ]
     },
     "execution_count": 20,
     "metadata": {},
     "output_type": "execute_result"
    }
   ],
   "source": [
    "image_job_id = FAIR.compute(output_ids[1]['@id'],graphic_code_id,'spark')\n",
    "image_job_id"
   ]
  },
  {
   "cell_type": "code",
   "execution_count": 22,
   "metadata": {},
   "outputs": [
    {
     "data": {
      "text/plain": [
       "[]"
      ]
     },
     "execution_count": 22,
     "metadata": {},
     "output_type": "execute_result"
    }
   ],
   "source": [
    "FAIR.list_running_jobs()"
   ]
  },
  {
   "cell_type": "code",
   "execution_count": 25,
   "metadata": {},
   "outputs": [],
   "source": [
    "image_job_meta = FAIR.retrive_metadata(image_job_id)\n",
    "image_id = image_job_meta['evi:supports'][0]['@id']"
   ]
  },
  {
   "cell_type": "code",
   "execution_count": 26,
   "metadata": {},
   "outputs": [
    {
     "data": {
      "text/plain": [
       "{'@context': {'@vocab': 'http://schema.org/'},\n",
       " '@id': 'ark:99999/ebe3fd39-7da4-4c3f-bf07-18edee23db84',\n",
       " '@type': 'Dataset',\n",
       " 'distribution': [{'@id': 'ark:99999/93cbb581-4557-409e-8a72-fc79588241a0',\n",
       "   '@type': 'DataDownload',\n",
       "   'contentUrl': 'minio:9000/breakfast/cfeb27a8-d946-4feb-ba65-2bda2ccaf94c/Histogram_Heatmap.png',\n",
       "   'fileFormat': 'png',\n",
       "   'name': 'Histogram_Heatmap.png'}],\n",
       " 'evi:generatedBy': {'@id': 'ark:99999/cfeb27a8-d946-4feb-ba65-2bda2ccaf94c'},\n",
       " 'name': 'Histogram_Heatmap.png',\n",
       " 'sdPublicationDate': '2020-07-31T15:43:36.078952838Z',\n",
       " 'url': 'http://ors.uvadcos.io/ark:99999/ebe3fd39-7da4-4c3f-bf07-18edee23db84'}"
      ]
     },
     "execution_count": 26,
     "metadata": {},
     "output_type": "execute_result"
    }
   ],
   "source": [
    "image_meta = FAIR.retrive_metadata(image_id)\n",
    "image_meta"
   ]
  },
  {
   "cell_type": "code",
   "execution_count": 27,
   "metadata": {},
   "outputs": [
    {
     "data": {
      "text/plain": [
       "{'@context': {'@vocab': 'http://schema.org/', 'evi': 'http://w3id.org/EVI#'},\n",
       " '@id': 'ark:99999/ebe3fd39-7da4-4c3f-bf07-18edee23db84',\n",
       " '@type': 'Dataset',\n",
       " 'evi:generatedBy': {'@id': 'ark:99999/cfeb27a8-d946-4feb-ba65-2bda2ccaf94c',\n",
       "  '@type': 'evi:Computation',\n",
       "  'began': 'Friday, July 31, 2020 03:43:05',\n",
       "  'evi:usedDataset': {'@id': 'ark:99999/1369b997-da23-4d73-80ba-7029880bbee7',\n",
       "   '@type': 'Dataset',\n",
       "   'evi:generatedBy': {'@id': 'ark:99999/e3ffb042-64e8-4bfe-9da5-fd017db80152',\n",
       "    '@type': 'evi:Computation',\n",
       "    'began': 'Friday, July 31, 2020 03:19:16',\n",
       "    'evi:usedDataset': {'@id': 'ark:99999/67edaeca-ab24-40fe-b5e2-dee99997d5ae',\n",
       "     '@type': 'Dataset',\n",
       "     'author': {'@id': 'https://orcid.org/0000-0002-1103-3882',\n",
       "      '@type': 'Person',\n",
       "      'name': 'Justin Niestroy'},\n",
       "     'name': 'Raw Data'},\n",
       "    'evi:usedSoftware': {'@id': 'ark:99999/06bf2adb-ef2b-41bf-92d3-7b8b15155598',\n",
       "     '@type': 'Dataset',\n",
       "     'author': {'@id': 'https://orcid.org/0000-0002-1103-3882',\n",
       "      '@type': 'Person',\n",
       "      'name': 'Justin Niestroy'},\n",
       "     'name': 'Raw Data'},\n",
       "    'name': 'Computation'},\n",
       "   'name': 'part-00000-2108e7d8-c481-4173-91b6-08e5f01709fe-c000.csv'},\n",
       "  'evi:usedSoftware': {'@id': 'ark:99999/043c345a-da5b-44b5-a182-ef88a9abaf67',\n",
       "   '@type': 'SoftwareSourceCode',\n",
       "   'author': {'@id': 'https://orcid.org/0000-0002-1103-3882',\n",
       "    '@type': 'Person',\n",
       "    'name': 'Justin Niestroy'},\n",
       "   'name': 'Image Script'},\n",
       "  'name': 'Computation'},\n",
       " 'name': 'Histogram_Heatmap.png'}"
      ]
     },
     "execution_count": 27,
     "metadata": {},
     "output_type": "execute_result"
    }
   ],
   "source": [
    "FAIR.evidence_graph(image_id)"
   ]
  },
  {
   "cell_type": "code",
   "execution_count": 2,
   "metadata": {},
   "outputs": [],
   "source": [
    "image_id = 'ark:99999/ebe3fd39-7da4-4c3f-bf07-18edee23db84'\n",
    "FAIR.download_file(image_id)"
   ]
  },
  {
   "cell_type": "code",
   "execution_count": null,
   "metadata": {},
   "outputs": [],
   "source": []
  }
 ],
 "metadata": {
  "kernelspec": {
   "display_name": "Python 3",
   "language": "python",
   "name": "python3"
  },
  "language_info": {
   "codemirror_mode": {
    "name": "ipython",
    "version": 3
   },
   "file_extension": ".py",
   "mimetype": "text/x-python",
   "name": "python",
   "nbconvert_exporter": "python",
   "pygments_lexer": "ipython3",
   "version": "3.7.6"
  }
 },
 "nbformat": 4,
 "nbformat_minor": 2
}
